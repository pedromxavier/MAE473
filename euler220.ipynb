{
 "cells": [
  {
   "cell_type": "markdown",
   "metadata": {},
   "source": [
    "$ a \\to aRbFR \\\\ b \\to LFaLb $"
   ]
  },
  {
   "cell_type": "code",
   "execution_count": 45,
   "metadata": {
    "collapsed": true
   },
   "outputs": [],
   "source": [
    "import matplotlib.pyplot as plt\n",
    "import numpy as np\n",
    "\n",
    "def expand_sequence(x):\n",
    "    return x.upper().replace(\"A\",\"aRbFR\").replace(\"B\",\"LFaLb\")\n",
    "\n",
    "def translate_sequence(x):\n",
    "    i = (0+1j)\n",
    "    mapping = {'R':-i,\n",
    "               'L': i}\n",
    "    return (mapping[y] for y in x if y in mapping)\n",
    "\n",
    "def complex_walk(n):\n",
    "    x = complex(0)\n",
    "    v = complex(1)\n",
    "    i = (0+1j)\n",
    "    mapping = {'R':-i,\n",
    "               'L': i}\n",
    "    yield x\n",
    "    for u in dragon_instructions(n):\n",
    "        if u == 'F':\n",
    "            x = x + v\n",
    "            yield x\n",
    "        elif u in mapping:\n",
    "            v = v*mapping[u]\n",
    "        else:\n",
    "            continue\n",
    "\n",
    "def dragon_instructions(n):\n",
    "    if not n:\n",
    "        return \"Fa\"\n",
    "    else:\n",
    "        return expand_sequence(dragon_instructions(n-1))\n",
    "    \n",
    "def plot_paths(XY, ax):\n",
    "    A,B = XY.T\n",
    "#     X,Y,U,V = [],[],[],[]\n",
    "#     for i in range(len(XY)-1):\n",
    "#         X.append(XY[i  ][0])\n",
    "#         Y.append(XY[i  ][1])\n",
    "#         U.append(XY[i+1][0])\n",
    "#         V.append(XY[i+1][1])\n",
    "#     X,Y,U,V = np.array(X),np.array(Y),np.array(U),np.array(V)\n",
    "#     print(\"arrays: \",X,'\\n',Y,'\\n',U,'\\n',V)\n",
    "#     ax.quiver(X,Y,U,V, units = 'xy', scale = 1)\n",
    "    ax.scatter(A,B)"
   ]
  },
  {
   "cell_type": "code",
   "execution_count": 39,
   "metadata": {},
   "outputs": [
    {
     "data": {
      "text/plain": [
       "'FaRbFRRLFaLbFR'"
      ]
     },
     "execution_count": 39,
     "metadata": {},
     "output_type": "execute_result"
    }
   ],
   "source": [
    "expand_sequence(expand_sequence(\"Fa\"))"
   ]
  },
  {
   "cell_type": "code",
   "execution_count": 30,
   "metadata": {},
   "outputs": [
    {
     "data": {
      "text/plain": [
       "'FaRbFRRLFaLbFR'"
      ]
     },
     "execution_count": 30,
     "metadata": {},
     "output_type": "execute_result"
    }
   ],
   "source": [
    "dragon_instructions(2)"
   ]
  },
  {
   "cell_type": "code",
   "execution_count": 31,
   "metadata": {},
   "outputs": [
    {
     "name": "stdout",
     "output_type": "stream",
     "text": [
      "<generator object translate_sequence.<locals>.<genexpr> at 0x00000271417910F8>\n"
     ]
    }
   ],
   "source": [
    "print(translate_sequence(dragon_instructions(3)))"
   ]
  },
  {
   "cell_type": "code",
   "execution_count": 32,
   "metadata": {
    "collapsed": true
   },
   "outputs": [],
   "source": [
    "def dragon_walk(n):\n",
    "    x = np.array([0,0])\n",
    "    y = [x]\n",
    "    v = np.array([1,0])\n",
    "    R = np.array([[0, 1],[-1,0]])\n",
    "    L = np.array([[0,-1],[ 1,0]])\n",
    "    for i in dragon_instructions(n):\n",
    "        if i == 'F':\n",
    "            x = x + v\n",
    "            y.append(x)\n",
    "        elif i == 'R':\n",
    "            v = R @ v\n",
    "        elif i == 'L':\n",
    "            v = L @ v\n",
    "        else:\n",
    "            continue\n",
    "    return np.array(y)\n",
    "\n",
    "def xdragon_walk(n):\n",
    "    # generator\n",
    "    x = np.array([0,0])\n",
    "    v = np.array([1,0])\n",
    "    R = np.array([[0, 1],[-1,0]])\n",
    "    L = np.array([[0,-1],[ 1,0]])\n",
    "    for i in dragon_instructions(n):\n",
    "        if i == 'F':\n",
    "            x = x + v\n",
    "            yield x\n",
    "        elif i == 'R':\n",
    "            v = R @ v\n",
    "        elif i == 'L':\n",
    "            v = L @ v\n",
    "        else:\n",
    "            continue"
   ]
  },
  {
   "cell_type": "code",
   "execution_count": 26,
   "metadata": {
    "collapsed": true
   },
   "outputs": [],
   "source": [
    "def dragon_plot(n,ax):\n",
    "    walk = dragon_walk(n)\n",
    "    plot_paths(walk,ax)"
   ]
  },
  {
   "cell_type": "code",
   "execution_count": null,
   "metadata": {
    "collapsed": true
   },
   "outputs": [],
   "source": []
  },
  {
   "cell_type": "code",
   "execution_count": 12,
   "metadata": {},
   "outputs": [
    {
     "data": {
      "image/png": "[encoded data removed]",
      "text/plain": [
       "<matplotlib.figure.Figure at 0x2714013d4e0>"
      ]
     },
     "metadata": {},
     "output_type": "display_data"
    }
   ],
   "source": [
    "fig = plt.figure()\n",
    "ax = fig.add_subplot(111)\n",
    "for i in reversed(range(15)):\n",
    "    dragon_plot(i,ax)\n",
    "plt.grid()\n",
    "plt.show()"
   ]
  },
  {
   "cell_type": "code",
   "execution_count": 56,
   "metadata": {},
   "outputs": [
    {
     "name": "stdout",
     "output_type": "stream",
     "text": [
      "100 loops, best of 3: 6.64 ms per loop\n"
     ]
    }
   ],
   "source": [
    "%timeit tuple(xdragon_walk(10))"
   ]
  },
  {
   "cell_type": "code",
   "execution_count": 57,
   "metadata": {},
   "outputs": [
    {
     "name": "stdout",
     "output_type": "stream",
     "text": [
      "1000 loops, best of 3: 857 µs per loop\n"
     ]
    }
   ],
   "source": [
    "%timeit tuple(complex_walk(10))"
   ]
  },
  {
   "cell_type": "code",
   "execution_count": null,
   "metadata": {
    "collapsed": true
   },
   "outputs": [],
   "source": []
  }
 ],
 "metadata": {
  "kernelspec": {
   "display_name": "Python 3",
   "language": "python",
   "name": "python3"
  },
  "language_info": {
   "codemirror_mode": {
    "name": "ipython",
    "version": 3
   },
   "file_extension": ".py",
   "mimetype": "text/x-python",
   "name": "python",
   "nbconvert_exporter": "python",
   "pygments_lexer": "ipython3",
   "version": "3.6.1"
  }
 },
 "nbformat": 4,
 "nbformat_minor": 2
}
